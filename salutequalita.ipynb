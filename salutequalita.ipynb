{
 "cells": [
  {
   "cell_type": "markdown",
   "metadata": {},
   "source": [
    "# Iniziamo il laboratorio!\n",
    "\n",
    "E' possibile costruire un sistema in grado di valutare la qualita' delle cure mediche erogate ai singoli pazienti?\n",
    "\n",
    "Iniziamo il laboratorio che ripercorre quanto realizzato da una societa' americana, la D2hawkeye,specializzata in analisi dati del settore medico. Siamo quindi nell'ambito del sistema sanitario USA basato sull'uso di assicurazioni sanitarie:\n",
    "il paziente si rivolge ad una struttura sanitaria per effettuare visite mediche, sottoporsi ad esami e terapie, ottenere la prescrizione dei farmaci adatti alla sua patologia; in una fase successiva, la struttura sanitaria si rivolgera' alla compagnia assicurativa del paziente per ottenere il rimborso dei costi sostenuti.\n",
    "\n",
    "Esaminando i dati relativi a queste richieste di rimborso, e' stato possibile mettere a punto un sistema capace di effettuare un assessment della qualita' del protocollo di cura applicato ai pazienti. \n",
    "Con il termine qualita' si intende una valutazione della cura applicata al paziente: gli esami, i farmaci,la cura e' da riternersi appropriata alla patologia del paziente? \n",
    "\n",
    "La Sanita' e' un ambito ricco di dati, dati che pero' sono complessi da gestire e per varie ragioni: \n",
    "\n",
    "* restrizioni di accesso ai dati legate a normative per la tutela della privacy\n",
    "* ampia dimensionalita' dei dati: si parla di migliaia di patologie, farmaci e protocolli di cura \n",
    "* presenza di dati non strutturati come ad esempio le annotazioni del personale medico \n",
    "* mancanza di standard e molteplicita' di piattaforme: strutture sanitarie diverse useranno standard e tecnologie diverse\n",
    "\n",
    "I dati che esaminiamo appartengono al mondo della sanita' USA.\n",
    "In particolare il dataset che utilizziamo proviene dalla D2hawkeye, una societa' specializzata nel settore sanitario, che gestisce le richieste di rimborso spese relative a pazienti assicurati, richieste che vengono inoltrate da personale medico o da Strutture Sanitarie per ottenere il pagamento di prestazioni/ricoveri.\n",
    "\n",
    "Effettuare un assessment sulla qualita' delle prestazioni mediche e del percorso di cura erogato ai pazienti, e' un processo importante per due ragioni:\n",
    "* la prima perche' consente di migliorare il protocollo di cura e di massimizzare la positiva risoluzione/evoluzione di alcune patologie\n",
    "* la seconda perche'consente di controllare i costi e di usare al meglio le risorse del sistema sanitario.\n",
    "Gli assessment di qualita' sono solitamente effettuati da personale medico che, usando le sue competenze, esamina i dati dei pazienti ed emette una sua valutazione. Si tratta di un processo manuale che richiede tempi lunghi e per questa ragione viene effettuato su un campione di pazienti.\n",
    "\n",
    "Andiamo quindi a mettere a punto un modello che esaminando i dati delle richieste rimborso costi si pone come obiettivo di potere effettuare un assessment su larga scala, esaminando i dati di milioni di pazienti in modo molto efficiente.\n",
    "\n",
    "Uno degli aspetti che la compagnia D2hawkeye ha dovuto affrontare e' stata la \"taggatura\" dei dati: le richiesta di rimborso costi sono gia' in forma elettronica ma sono poco accurate. Le richiesta sono compilate da personale medico e contengono informazioni come \n",
    "* codice della diagnosi \n",
    "* codice della prestazione\n",
    "* costo della prestazione\n",
    "\n",
    "L'operazione di taggatura consiste nell'esaminare il record di ogni singolo paziente e associare a questo una valutazione della qualita' alta o bassa, dove con qualita' si intende il grado di appropriatezza della cura applicata al paziente. \n",
    "\n",
    "Il dataset che andiamo ad esaminare rappresenta un campione di 131 pazienti diabetici, di eta' compresa tra 35 e 55 anni e con un costo sanitario compreso tra 10000$ e 20000$. Il file contiene dati relativi al periodo 2003-2005 e comprende il campo di taggatura che contiene un valore booleano per rappresentare una scarsa qualita' della cura: TRUE nel caso di scarsa qualita' e FALSE nel caso di buona qualita' della cura.\n",
    "\n",
    "\n",
    "Vediamo da vicino cosa e' il **Machine Learning** con questo semplice esercizio.\n",
    "Per fare questo scriveremo un programma. \n",
    "Il codice che scriveremo, pero', non avra' lo scopo di definire in forma di **source code** le regole in base alle quali rispondere a degli input. \n",
    "\n",
    "Al contrario il codice che scriveremo avra' lo scopo di imparare dai dati, rappresentazione di un'esperienza passata, come  rispondere agli input futuri. Il nostro codice sara' focalizzato sugli aspetti di lettura dati, sulla comprensione di quali parametri siano rilevanti per il problema e di quale sia il modello matematico migliore per effettuare apprendimento o meglio il training del programma.\n",
    "nel file di dati dovremo identificare:\n",
    "* una variabile del dataset che viene considerata dipendente, o target ,e sara' proprio questa variabile che il modello dovra'   \n",
    "  predire\n",
    "* un set di variabili indipendenti che saranno usate per determinare il valore della variabile dipendente \n",
    "\n",
    "Il notebook che andiamo a scrivere vuole mettere a punto un modello in grado di valutare la qualita' di un trattamento sanitario.\n",
    "\n",
    "\n",
    "Il nostro dataset di training si chiama quality.csv. \n",
    "\n",
    "Porta il file quality.csv su object storage parendo la sezione dati: puoi fare drag and drop oppure fai upload con browse. Troverai il file quality.csv anche nella sezione data asset.\n",
    "\n",
    "* Posizionati con il cursore nella cella sottostante\n",
    "\n",
    "* Apri il menu a fianco del file e scegli Insert to code e poi Insert R DataFrame.\n",
    "\n",
    "Verranno generate in automatico le chiamate REST per agganciare Cloud Object Storage con le tue credenziali.\n",
    "\n",
    "Viene poi preparata la  call per la lettura del file.\n",
    "\n",
    "* Dove compare **df.data.1** edita un nome piu' parlante per il dataset.\n",
    "\n",
    "* Cambia  df.data.1 con quality:\n",
    "   ** quality <- read.csv(text = rawToChar(obj$content))**\n",
    "   \n",
    "   ** head(quality) **\n",
    "\n",
    "* Con **CTLR-ENTER** esegui il codice contenuto nella cella.\n",
    "\n",
    "* Con **head(quality)** puoi vedere le prime righe del dataset e la riga di intestazione.\n",
    "\n",
    "\n",
    "\n"
   ]
  },
  {
   "cell_type": "code",
   "execution_count": 2,
   "metadata": {},
   "outputs": [
    {
     "data": {
      "text/html": [
       "<table>\n",
       "<thead><tr><th scope=col>MemberID</th><th scope=col>InpatientDays</th><th scope=col>ERVisits</th><th scope=col>OfficeVisits</th><th scope=col>Narcotics</th><th scope=col>DaysSinceLastERVisit</th><th scope=col>Pain</th><th scope=col>TotalVisits</th><th scope=col>ProviderCount</th><th scope=col>MedicalClaims</th><th scope=col>ClaimLines</th><th scope=col>StartedOnCombination</th><th scope=col>AcuteDrugGapSmall</th><th scope=col>PoorCare</th></tr></thead>\n",
       "<tbody>\n",
       "\t<tr><td>1    </td><td>0    </td><td>0    </td><td>18   </td><td>1    </td><td>731  </td><td>10   </td><td>18   </td><td>21   </td><td>93   </td><td>222  </td><td>FALSE</td><td>0    </td><td>0    </td></tr>\n",
       "\t<tr><td>2    </td><td>1    </td><td>1    </td><td> 6   </td><td>1    </td><td>411  </td><td> 0   </td><td> 8   </td><td>27   </td><td>19   </td><td>115  </td><td>FALSE</td><td>1    </td><td>0    </td></tr>\n",
       "\t<tr><td>3    </td><td>0    </td><td>0    </td><td> 5   </td><td>3    </td><td>731  </td><td>10   </td><td> 5   </td><td>16   </td><td>27   </td><td>148  </td><td>FALSE</td><td>5    </td><td>0    </td></tr>\n",
       "\t<tr><td>4    </td><td>0    </td><td>1    </td><td>19   </td><td>0    </td><td>158  </td><td>34   </td><td>20   </td><td>14   </td><td>59   </td><td>242  </td><td>FALSE</td><td>0    </td><td>0    </td></tr>\n",
       "\t<tr><td>5    </td><td>8    </td><td>2    </td><td>19   </td><td>3    </td><td>449  </td><td>10   </td><td>29   </td><td>24   </td><td>51   </td><td>204  </td><td>FALSE</td><td>0    </td><td>0    </td></tr>\n",
       "\t<tr><td>6    </td><td>2    </td><td>0    </td><td> 9   </td><td>2    </td><td>731  </td><td> 6   </td><td>11   </td><td>40   </td><td>53   </td><td>156  </td><td>FALSE</td><td>4    </td><td>1    </td></tr>\n",
       "</tbody>\n",
       "</table>\n"
      ],
      "text/latex": [
       "\\begin{tabular}{r|llllllllllllll}\n",
       " MemberID & InpatientDays & ERVisits & OfficeVisits & Narcotics & DaysSinceLastERVisit & Pain & TotalVisits & ProviderCount & MedicalClaims & ClaimLines & StartedOnCombination & AcuteDrugGapSmall & PoorCare\\\\\n",
       "\\hline\n",
       "\t 1     & 0     & 0     & 18    & 1     & 731   & 10    & 18    & 21    & 93    & 222   & FALSE & 0     & 0    \\\\\n",
       "\t 2     & 1     & 1     &  6    & 1     & 411   &  0    &  8    & 27    & 19    & 115   & FALSE & 1     & 0    \\\\\n",
       "\t 3     & 0     & 0     &  5    & 3     & 731   & 10    &  5    & 16    & 27    & 148   & FALSE & 5     & 0    \\\\\n",
       "\t 4     & 0     & 1     & 19    & 0     & 158   & 34    & 20    & 14    & 59    & 242   & FALSE & 0     & 0    \\\\\n",
       "\t 5     & 8     & 2     & 19    & 3     & 449   & 10    & 29    & 24    & 51    & 204   & FALSE & 0     & 0    \\\\\n",
       "\t 6     & 2     & 0     &  9    & 2     & 731   &  6    & 11    & 40    & 53    & 156   & FALSE & 4     & 1    \\\\\n",
       "\\end{tabular}\n"
      ],
      "text/plain": [
       "  MemberID InpatientDays ERVisits OfficeVisits Narcotics DaysSinceLastERVisit\n",
       "1 1        0             0        18           1         731                 \n",
       "2 2        1             1         6           1         411                 \n",
       "3 3        0             0         5           3         731                 \n",
       "4 4        0             1        19           0         158                 \n",
       "5 5        8             2        19           3         449                 \n",
       "6 6        2             0         9           2         731                 \n",
       "  Pain TotalVisits ProviderCount MedicalClaims ClaimLines StartedOnCombination\n",
       "1 10   18          21            93            222        FALSE               \n",
       "2  0    8          27            19            115        FALSE               \n",
       "3 10    5          16            27            148        FALSE               \n",
       "4 34   20          14            59            242        FALSE               \n",
       "5 10   29          24            51            204        FALSE               \n",
       "6  6   11          40            53            156        FALSE               \n",
       "  AcuteDrugGapSmall PoorCare\n",
       "1 0                 0       \n",
       "2 1                 0       \n",
       "3 5                 0       \n",
       "4 0                 0       \n",
       "5 0                 0       \n",
       "6 4                 1       "
      ]
     },
     "metadata": {},
     "output_type": "display_data"
    }
   ],
   "source": [
    "\n",
    "# The code was removed by for sharing\n"
   ]
  },
  {
   "cell_type": "markdown",
   "metadata": {},
   "source": [
    "*****************************************************************************************************************************\n",
    "In un progetto di DataScience la parte piu' importante e anche piu' impegnativa e' rappresentata dalla esplorazione dei dati attraverso lo studio dei dataset e di conseguenza della loro cleaning o pulizia.\n",
    "\n",
    "Usando il linguaggio R ci sono molti comandi che ci aiutano a esplorare e conoscere il nostro dataset.\n",
    "\n",
    "Con **str(quality)** possiamo vedere quante righe sono presenti nel file, quante variabili abbiamo, il loro nome e il loro tipo\n"
   ]
  },
  {
   "cell_type": "code",
   "execution_count": 3,
   "metadata": {},
   "outputs": [
    {
     "name": "stdout",
     "output_type": "stream",
     "text": [
      "'data.frame':\t131 obs. of  14 variables:\n",
      " $ MemberID            : int  1 2 3 4 5 6 7 8 9 10 ...\n",
      " $ InpatientDays       : int  0 1 0 0 8 2 16 2 2 4 ...\n",
      " $ ERVisits            : int  0 1 0 1 2 0 1 0 1 2 ...\n",
      " $ OfficeVisits        : int  18 6 5 19 19 9 8 8 4 0 ...\n",
      " $ Narcotics           : int  1 1 3 0 3 2 1 0 3 2 ...\n",
      " $ DaysSinceLastERVisit: num  731 411 731 158 449 ...\n",
      " $ Pain                : int  10 0 10 34 10 6 4 5 5 2 ...\n",
      " $ TotalVisits         : int  18 8 5 20 29 11 25 10 7 6 ...\n",
      " $ ProviderCount       : int  21 27 16 14 24 40 19 11 28 21 ...\n",
      " $ MedicalClaims       : int  93 19 27 59 51 53 40 28 20 17 ...\n",
      " $ ClaimLines          : int  222 115 148 242 204 156 261 87 98 66 ...\n",
      " $ StartedOnCombination: logi  FALSE FALSE FALSE FALSE FALSE FALSE ...\n",
      " $ AcuteDrugGapSmall   : int  0 1 5 0 0 4 0 0 0 0 ...\n",
      " $ PoorCare            : int  0 0 0 0 0 1 0 0 1 0 ...\n"
     ]
    }
   ],
   "source": [
    "str(quality)"
   ]
  },
  {
   "cell_type": "markdown",
   "metadata": {},
   "source": [
    "Il nostro dataset rappresenta i record di 131 pazienti diabetici scelti a caso da una popolazione di diabetici con eta' compresa tra 35 e 55 anni, con costi sanitari associati compresi tra 10000 e  20000 dollari e relativa ad un intervallo temporale 2003-2005.\n",
    "Ogni riga del dataset e' relativa ad un paziente.\n",
    "Queste sono le variabili e il loro significato:\n",
    "\n",
    "* MemberID codice identificativo del paziente da 1 a 131.\n",
    "* InpatientDays e' il numero di visite di controllo o il numero di giorni di ricovero ospedaliero\n",
    "* ERVisits numero di visite effettuate presso il pronto soccorso.\n",
    "* OfficeVisits numero di visite presso ambulatorio medico.\n",
    "* Narcotics numero di prescrizioni di analgesici.\n",
    "* DaysSinceLastERVisit numero di giorni tra l'ultima visita in Pronto Soccorso e and the end of the study period. \n",
    "* Pain numero di visite in cui il paziente lamenta per il suo disturbo.\n",
    "* TotalVisits totale visite effettuate presso strutture sanitarie.\n",
    "* ProviderCount numero di strutture che ha seguito il paziente.\n",
    "* MedicalClaims numero di giorni relativo alla richiesta di rimborso spese.\n",
    "* ClaimLines is the total number of medical claims.\n",
    "* StartedOnCombination variabile binaria (TRUE o FALSE) per rappresentare se e' gia' stato iniziato un trattamento farmacologico \n",
    "  per il diabete.\n",
    "* AcuteDrugGapSmall la percentuale di farmaci, per la fase acuta, che sono stati prescritti una seconda volta in uno stretto  \n",
    "  intervallotemporale.\n",
    "* PoorCare e' la variabile dipendente che vogliamo predire e rappresenta la qualita' del trattamento erogato al paziente. Questa \n",
    "  variabile assume il valore 1 nel caso di scarsa qualita', assume il valore 0 nel caso di buona qualita'.\n",
    "\n"
   ]
  },
  {
   "cell_type": "markdown",
   "metadata": {},
   "source": [
    "Il modello che andiamo a costruire dovra' effettuare una classificazione dei record paziente cioe' dovra' associare ad ogni record un valore discreto in questo caso VERO o FALSO riferito alla scarsa qualita' della cura a cui e' stato sottoposto il paziente specifico.\n",
    "Per costruire il modello usiamo una **Regressione Logistica** che ritorna le probabilita' associate ai valori della variabile indipendente PoorCare.\n",
    "\n",
    "PoorCare e' la nostra y, il target che vogliamo predire, ed assume i valori y=1 per rappresentare una scarsa qualita' e y=0 per rappresentare un'alta qualita'.\n",
    "Ragionando in termini di probabilita' avremo che : P(y=0)= 1-P(y=1)\n",
    "\n",
    "La Regressione Logistica riesce a collegare variabili che hanno una relazione non lineare. \n",
    "Ad esempio nel caso dei nostri dati, proviamo a fare un plot della feature OfficeVisits, cioe' il numero di visite in ambulatorio, versus \n",
    "Narcotics, cioe' antidolorifici, e mettiamo anche in evidenza PoorCare in rosso \n"
   ]
  },
  {
   "cell_type": "code",
   "execution_count": 4,
   "metadata": {},
   "outputs": [
    {
     "data": {
      "image/png": "[encoded data removed]"
     },
     "metadata": {},
     "output_type": "display_data"
    }
   ],
   "source": [
    "plot(quality$OfficeVisits,quality$Narcotics,col=\"green\",pch=19 )\n",
    "points(quality$OfficeVisits[quality$PoorCare==1], quality$Narcotics[quality$PoorCare==1],col=\"red\",pch=19)"
   ]
  },
  {
   "cell_type": "markdown",
   "metadata": {},
   "source": [
    "E' difficile trovare una relazione tra il numero di visite in ambulatorio e le prescrizioni di antidolorifici.\n",
    "Quello che pero'si intravvede e' che un numero maggiore di prescrizioni di anestetici e un numero alto di visite in ambulatorio, si associano ad una piu bassa qualita' della cura del paziente.\n",
    "\n",
    "\n",
    "La rappresentazione matematica della Regressione Logistica e' la seguente:\n",
    "<img src=\"https://user-images.githubusercontent.com/17910093/43718952-995b443e-998c-11e8-93fa-982f27b36323.png\"  style=\"width: 500px\"/>\n",
    "Esaminando la funzione si puo' vedere che:\n",
    "* per un esponente >>0 la probabilita' tende a 1\n",
    "* per un esponente <<0 la probabilita' tende a 0.\n",
    "\n",
    "Per costruire il modello faremo il training della Regressione Logistica utilizando i dati del nostro file, e in questo modo andiamo a determinare i valori dei pesi (β0,β1,...,βn) della funzione.\n",
    "\n",
    "Nel caso della Regressione Logistica non c'e una soluzione matematica ma dobbiamo procedere in modo iterativo facendo convergere la funzione verso la soluzione ottimale.\n",
    "\n",
    "Nel nostro caso avremo che:\n",
    "valori alti di (β0,β1,...,βn) corrisponderanno ad una bassa qualita'\n",
    "valori bassi di (β0,β1,...,βn) corrisponderanno ad un'alta qualita'"
   ]
  },
  {
   "cell_type": "markdown",
   "metadata": {},
   "source": [
    "Andiamo a suddividere il dataset in una componente di training e in una componente di test.\n",
    "Avremo in particolare il 75% dei dati usati per il training e il restante 25% per il test"
   ]
  },
  {
   "cell_type": "code",
   "execution_count": 5,
   "metadata": {},
   "outputs": [],
   "source": [
    "library(caTools)\n",
    "set.seed(88)\n",
    "spl=sample.split(quality$PoorCare,SplitRatio=0.75)"
   ]
  },
  {
   "cell_type": "code",
   "execution_count": 18,
   "metadata": {},
   "outputs": [
    {
     "data": {
      "text/html": [
       "<ol class=list-inline>\n",
       "\t<li>TRUE</li>\n",
       "\t<li>TRUE</li>\n",
       "\t<li>TRUE</li>\n",
       "\t<li>TRUE</li>\n",
       "\t<li>FALSE</li>\n",
       "\t<li>TRUE</li>\n",
       "\t<li>FALSE</li>\n",
       "\t<li>TRUE</li>\n",
       "\t<li>FALSE</li>\n",
       "\t<li>FALSE</li>\n",
       "\t<li>TRUE</li>\n",
       "\t<li>FALSE</li>\n",
       "\t<li>TRUE</li>\n",
       "\t<li>TRUE</li>\n",
       "\t<li>TRUE</li>\n",
       "\t<li>TRUE</li>\n",
       "\t<li>TRUE</li>\n",
       "\t<li>TRUE</li>\n",
       "\t<li>TRUE</li>\n",
       "\t<li>TRUE</li>\n",
       "\t<li>TRUE</li>\n",
       "\t<li>TRUE</li>\n",
       "\t<li>TRUE</li>\n",
       "\t<li>TRUE</li>\n",
       "\t<li>FALSE</li>\n",
       "\t<li>TRUE</li>\n",
       "\t<li>TRUE</li>\n",
       "\t<li>TRUE</li>\n",
       "\t<li>TRUE</li>\n",
       "\t<li>FALSE</li>\n",
       "\t<li>FALSE</li>\n",
       "\t<li>FALSE</li>\n",
       "\t<li>FALSE</li>\n",
       "\t<li>TRUE</li>\n",
       "\t<li>TRUE</li>\n",
       "\t<li>TRUE</li>\n",
       "\t<li>FALSE</li>\n",
       "\t<li>TRUE</li>\n",
       "\t<li>TRUE</li>\n",
       "\t<li>TRUE</li>\n",
       "\t<li>FALSE</li>\n",
       "\t<li>FALSE</li>\n",
       "\t<li>TRUE</li>\n",
       "\t<li>TRUE</li>\n",
       "\t<li>FALSE</li>\n",
       "\t<li>TRUE</li>\n",
       "\t<li>FALSE</li>\n",
       "\t<li>TRUE</li>\n",
       "\t<li>FALSE</li>\n",
       "\t<li>TRUE</li>\n",
       "\t<li>TRUE</li>\n",
       "\t<li>FALSE</li>\n",
       "\t<li>FALSE</li>\n",
       "\t<li>TRUE</li>\n",
       "\t<li>TRUE</li>\n",
       "\t<li>TRUE</li>\n",
       "\t<li>TRUE</li>\n",
       "\t<li>TRUE</li>\n",
       "\t<li>TRUE</li>\n",
       "\t<li>TRUE</li>\n",
       "\t<li>TRUE</li>\n",
       "\t<li>TRUE</li>\n",
       "\t<li>TRUE</li>\n",
       "\t<li>TRUE</li>\n",
       "\t<li>TRUE</li>\n",
       "\t<li>FALSE</li>\n",
       "\t<li>TRUE</li>\n",
       "\t<li>TRUE</li>\n",
       "\t<li>TRUE</li>\n",
       "\t<li>TRUE</li>\n",
       "\t<li>FALSE</li>\n",
       "\t<li>TRUE</li>\n",
       "\t<li>TRUE</li>\n",
       "\t<li>TRUE</li>\n",
       "\t<li>TRUE</li>\n",
       "\t<li>TRUE</li>\n",
       "\t<li>TRUE</li>\n",
       "\t<li>TRUE</li>\n",
       "\t<li>TRUE</li>\n",
       "\t<li>TRUE</li>\n",
       "\t<li>TRUE</li>\n",
       "\t<li>TRUE</li>\n",
       "\t<li>TRUE</li>\n",
       "\t<li>FALSE</li>\n",
       "\t<li>TRUE</li>\n",
       "\t<li>TRUE</li>\n",
       "\t<li>TRUE</li>\n",
       "\t<li>TRUE</li>\n",
       "\t<li>TRUE</li>\n",
       "\t<li>TRUE</li>\n",
       "\t<li>TRUE</li>\n",
       "\t<li>TRUE</li>\n",
       "\t<li>TRUE</li>\n",
       "\t<li>FALSE</li>\n",
       "\t<li>TRUE</li>\n",
       "\t<li>TRUE</li>\n",
       "\t<li>TRUE</li>\n",
       "\t<li>TRUE</li>\n",
       "\t<li>TRUE</li>\n",
       "\t<li>TRUE</li>\n",
       "\t<li>TRUE</li>\n",
       "\t<li>TRUE</li>\n",
       "\t<li>TRUE</li>\n",
       "\t<li>FALSE</li>\n",
       "\t<li>TRUE</li>\n",
       "\t<li>TRUE</li>\n",
       "\t<li>TRUE</li>\n",
       "\t<li>FALSE</li>\n",
       "\t<li>TRUE</li>\n",
       "\t<li>FALSE</li>\n",
       "\t<li>FALSE</li>\n",
       "\t<li>TRUE</li>\n",
       "\t<li>TRUE</li>\n",
       "\t<li>FALSE</li>\n",
       "\t<li>TRUE</li>\n",
       "\t<li>TRUE</li>\n",
       "\t<li>TRUE</li>\n",
       "\t<li>FALSE</li>\n",
       "\t<li>TRUE</li>\n",
       "\t<li>TRUE</li>\n",
       "\t<li>FALSE</li>\n",
       "\t<li>TRUE</li>\n",
       "\t<li>TRUE</li>\n",
       "\t<li>FALSE</li>\n",
       "\t<li>TRUE</li>\n",
       "\t<li>TRUE</li>\n",
       "\t<li>FALSE</li>\n",
       "\t<li>TRUE</li>\n",
       "\t<li>TRUE</li>\n",
       "\t<li>TRUE</li>\n",
       "\t<li>FALSE</li>\n",
       "</ol>\n"
      ],
      "text/latex": [
       "\\begin{enumerate*}\n",
       "\\item TRUE\n",
       "\\item TRUE\n",
       "\\item TRUE\n",
       "\\item TRUE\n",
       "\\item FALSE\n",
       "\\item TRUE\n",
       "\\item FALSE\n",
       "\\item TRUE\n",
       "\\item FALSE\n",
       "\\item FALSE\n",
       "\\item TRUE\n",
       "\\item FALSE\n",
       "\\item TRUE\n",
       "\\item TRUE\n",
       "\\item TRUE\n",
       "\\item TRUE\n",
       "\\item TRUE\n",
       "\\item TRUE\n",
       "\\item TRUE\n",
       "\\item TRUE\n",
       "\\item TRUE\n",
       "\\item TRUE\n",
       "\\item TRUE\n",
       "\\item TRUE\n",
       "\\item FALSE\n",
       "\\item TRUE\n",
       "\\item TRUE\n",
       "\\item TRUE\n",
       "\\item TRUE\n",
       "\\item FALSE\n",
       "\\item FALSE\n",
       "\\item FALSE\n",
       "\\item FALSE\n",
       "\\item TRUE\n",
       "\\item TRUE\n",
       "\\item TRUE\n",
       "\\item FALSE\n",
       "\\item TRUE\n",
       "\\item TRUE\n",
       "\\item TRUE\n",
       "\\item FALSE\n",
       "\\item FALSE\n",
       "\\item TRUE\n",
       "\\item TRUE\n",
       "\\item FALSE\n",
       "\\item TRUE\n",
       "\\item FALSE\n",
       "\\item TRUE\n",
       "\\item FALSE\n",
       "\\item TRUE\n",
       "\\item TRUE\n",
       "\\item FALSE\n",
       "\\item FALSE\n",
       "\\item TRUE\n",
       "\\item TRUE\n",
       "\\item TRUE\n",
       "\\item TRUE\n",
       "\\item TRUE\n",
       "\\item TRUE\n",
       "\\item TRUE\n",
       "\\item TRUE\n",
       "\\item TRUE\n",
       "\\item TRUE\n",
       "\\item TRUE\n",
       "\\item TRUE\n",
       "\\item FALSE\n",
       "\\item TRUE\n",
       "\\item TRUE\n",
       "\\item TRUE\n",
       "\\item TRUE\n",
       "\\item FALSE\n",
       "\\item TRUE\n",
       "\\item TRUE\n",
       "\\item TRUE\n",
       "\\item TRUE\n",
       "\\item TRUE\n",
       "\\item TRUE\n",
       "\\item TRUE\n",
       "\\item TRUE\n",
       "\\item TRUE\n",
       "\\item TRUE\n",
       "\\item TRUE\n",
       "\\item TRUE\n",
       "\\item FALSE\n",
       "\\item TRUE\n",
       "\\item TRUE\n",
       "\\item TRUE\n",
       "\\item TRUE\n",
       "\\item TRUE\n",
       "\\item TRUE\n",
       "\\item TRUE\n",
       "\\item TRUE\n",
       "\\item TRUE\n",
       "\\item FALSE\n",
       "\\item TRUE\n",
       "\\item TRUE\n",
       "\\item TRUE\n",
       "\\item TRUE\n",
       "\\item TRUE\n",
       "\\item TRUE\n",
       "\\item TRUE\n",
       "\\item TRUE\n",
       "\\item TRUE\n",
       "\\item FALSE\n",
       "\\item TRUE\n",
       "\\item TRUE\n",
       "\\item TRUE\n",
       "\\item FALSE\n",
       "\\item TRUE\n",
       "\\item FALSE\n",
       "\\item FALSE\n",
       "\\item TRUE\n",
       "\\item TRUE\n",
       "\\item FALSE\n",
       "\\item TRUE\n",
       "\\item TRUE\n",
       "\\item TRUE\n",
       "\\item FALSE\n",
       "\\item TRUE\n",
       "\\item TRUE\n",
       "\\item FALSE\n",
       "\\item TRUE\n",
       "\\item TRUE\n",
       "\\item FALSE\n",
       "\\item TRUE\n",
       "\\item TRUE\n",
       "\\item FALSE\n",
       "\\item TRUE\n",
       "\\item TRUE\n",
       "\\item TRUE\n",
       "\\item FALSE\n",
       "\\end{enumerate*}\n"
      ],
      "text/markdown": [
       "1. TRUE\n",
       "2. TRUE\n",
       "3. TRUE\n",
       "4. TRUE\n",
       "5. FALSE\n",
       "6. TRUE\n",
       "7. FALSE\n",
       "8. TRUE\n",
       "9. FALSE\n",
       "10. FALSE\n",
       "11. TRUE\n",
       "12. FALSE\n",
       "13. TRUE\n",
       "14. TRUE\n",
       "15. TRUE\n",
       "16. TRUE\n",
       "17. TRUE\n",
       "18. TRUE\n",
       "19. TRUE\n",
       "20. TRUE\n",
       "21. TRUE\n",
       "22. TRUE\n",
       "23. TRUE\n",
       "24. TRUE\n",
       "25. FALSE\n",
       "26. TRUE\n",
       "27. TRUE\n",
       "28. TRUE\n",
       "29. TRUE\n",
       "30. FALSE\n",
       "31. FALSE\n",
       "32. FALSE\n",
       "33. FALSE\n",
       "34. TRUE\n",
       "35. TRUE\n",
       "36. TRUE\n",
       "37. FALSE\n",
       "38. TRUE\n",
       "39. TRUE\n",
       "40. TRUE\n",
       "41. FALSE\n",
       "42. FALSE\n",
       "43. TRUE\n",
       "44. TRUE\n",
       "45. FALSE\n",
       "46. TRUE\n",
       "47. FALSE\n",
       "48. TRUE\n",
       "49. FALSE\n",
       "50. TRUE\n",
       "51. TRUE\n",
       "52. FALSE\n",
       "53. FALSE\n",
       "54. TRUE\n",
       "55. TRUE\n",
       "56. TRUE\n",
       "57. TRUE\n",
       "58. TRUE\n",
       "59. TRUE\n",
       "60. TRUE\n",
       "61. TRUE\n",
       "62. TRUE\n",
       "63. TRUE\n",
       "64. TRUE\n",
       "65. TRUE\n",
       "66. FALSE\n",
       "67. TRUE\n",
       "68. TRUE\n",
       "69. TRUE\n",
       "70. TRUE\n",
       "71. FALSE\n",
       "72. TRUE\n",
       "73. TRUE\n",
       "74. TRUE\n",
       "75. TRUE\n",
       "76. TRUE\n",
       "77. TRUE\n",
       "78. TRUE\n",
       "79. TRUE\n",
       "80. TRUE\n",
       "81. TRUE\n",
       "82. TRUE\n",
       "83. TRUE\n",
       "84. FALSE\n",
       "85. TRUE\n",
       "86. TRUE\n",
       "87. TRUE\n",
       "88. TRUE\n",
       "89. TRUE\n",
       "90. TRUE\n",
       "91. TRUE\n",
       "92. TRUE\n",
       "93. TRUE\n",
       "94. FALSE\n",
       "95. TRUE\n",
       "96. TRUE\n",
       "97. TRUE\n",
       "98. TRUE\n",
       "99. TRUE\n",
       "100. TRUE\n",
       "101. TRUE\n",
       "102. TRUE\n",
       "103. TRUE\n",
       "104. FALSE\n",
       "105. TRUE\n",
       "106. TRUE\n",
       "107. TRUE\n",
       "108. FALSE\n",
       "109. TRUE\n",
       "110. FALSE\n",
       "111. FALSE\n",
       "112. TRUE\n",
       "113. TRUE\n",
       "114. FALSE\n",
       "115. TRUE\n",
       "116. TRUE\n",
       "117. TRUE\n",
       "118. FALSE\n",
       "119. TRUE\n",
       "120. TRUE\n",
       "121. FALSE\n",
       "122. TRUE\n",
       "123. TRUE\n",
       "124. FALSE\n",
       "125. TRUE\n",
       "126. TRUE\n",
       "127. FALSE\n",
       "128. TRUE\n",
       "129. TRUE\n",
       "130. TRUE\n",
       "131. FALSE\n",
       "\n",
       "\n"
      ],
      "text/plain": [
       "  [1]  TRUE  TRUE  TRUE  TRUE FALSE  TRUE FALSE  TRUE FALSE FALSE  TRUE FALSE\n",
       " [13]  TRUE  TRUE  TRUE  TRUE  TRUE  TRUE  TRUE  TRUE  TRUE  TRUE  TRUE  TRUE\n",
       " [25] FALSE  TRUE  TRUE  TRUE  TRUE FALSE FALSE FALSE FALSE  TRUE  TRUE  TRUE\n",
       " [37] FALSE  TRUE  TRUE  TRUE FALSE FALSE  TRUE  TRUE FALSE  TRUE FALSE  TRUE\n",
       " [49] FALSE  TRUE  TRUE FALSE FALSE  TRUE  TRUE  TRUE  TRUE  TRUE  TRUE  TRUE\n",
       " [61]  TRUE  TRUE  TRUE  TRUE  TRUE FALSE  TRUE  TRUE  TRUE  TRUE FALSE  TRUE\n",
       " [73]  TRUE  TRUE  TRUE  TRUE  TRUE  TRUE  TRUE  TRUE  TRUE  TRUE  TRUE FALSE\n",
       " [85]  TRUE  TRUE  TRUE  TRUE  TRUE  TRUE  TRUE  TRUE  TRUE FALSE  TRUE  TRUE\n",
       " [97]  TRUE  TRUE  TRUE  TRUE  TRUE  TRUE  TRUE FALSE  TRUE  TRUE  TRUE FALSE\n",
       "[109]  TRUE FALSE FALSE  TRUE  TRUE FALSE  TRUE  TRUE  TRUE FALSE  TRUE  TRUE\n",
       "[121] FALSE  TRUE  TRUE FALSE  TRUE  TRUE FALSE  TRUE  TRUE  TRUE FALSE"
      ]
     },
     "metadata": {},
     "output_type": "display_data"
    }
   ],
   "source": [
    "#Andiamo a vedere lo split\n",
    "spl"
   ]
  },
  {
   "cell_type": "code",
   "execution_count": 6,
   "metadata": {},
   "outputs": [],
   "source": [
    "#creiamo i due dataset di training e di test\n",
    "\n",
    "qualitytrain=subset(quality,spl==TRUE)\n",
    "qualityTest=subset(quality,spl==FALSE)"
   ]
  },
  {
   "cell_type": "markdown",
   "metadata": {},
   "source": [
    "Andiamo a determinare la previsione di base, cioe' la regola del pollice.\n",
    "Trattandosi di una classificazione, la domanda che ci poniamoa e' la qualita' di una cura e' stata scarsa oppure no? \n",
    "Possiamo verificare quale delle due situazioni si verifica piu' frequentemente e decidere che questa e' la nostra predizione di default."
   ]
  },
  {
   "cell_type": "code",
   "execution_count": 7,
   "metadata": {},
   "outputs": [
    {
     "data": {
      "text/plain": [
       "\n",
       " 0  1 \n",
       "74 25 "
      ]
     },
     "metadata": {},
     "output_type": "display_data"
    }
   ],
   "source": [
    "table(qualitytrain$PoorCare)"
   ]
  },
  {
   "cell_type": "markdown",
   "metadata": {},
   "source": [
    "Guardando il risultato, fortunatamente ci sono molti piu casi di buona qualita' della cura applicata al paziente: 74 ripsetto ai casi di scarsa qualita' della cura: 25. \n",
    "La baseline di riferimento per il nostro modello sara' prevedere che un caso e' un caso di buona sanita'.\n",
    "\n",
    "Costruiamo il modello di Regressione Logistica per verificare quanto rappresentato nel grafico. \n",
    "Usiamo la funzione **glm** che sta per **generalized logistic reression** \n",
    "Specificando il parametro **family = binomial** \n",
    "diciamo a glm di produrre una Classificazione."
   ]
  },
  {
   "cell_type": "code",
   "execution_count": 8,
   "metadata": {},
   "outputs": [],
   "source": [
    "qualityMdl=glm(PoorCare~ OfficeVisits+Narcotics, data=qualitytrain, family=binomial)"
   ]
  },
  {
   "cell_type": "code",
   "execution_count": 9,
   "metadata": {},
   "outputs": [
    {
     "data": {
      "text/plain": [
       "\n",
       "Call:\n",
       "glm(formula = PoorCare ~ OfficeVisits + Narcotics, family = binomial, \n",
       "    data = qualitytrain)\n",
       "\n",
       "Deviance Residuals: \n",
       "     Min        1Q    Median        3Q       Max  \n",
       "-2.06303  -0.63155  -0.50503  -0.09689   2.16686  \n",
       "\n",
       "Coefficients:\n",
       "             Estimate Std. Error z value Pr(>|z|)    \n",
       "(Intercept)  -2.64613    0.52357  -5.054 4.33e-07 ***\n",
       "OfficeVisits  0.08212    0.03055   2.688  0.00718 ** \n",
       "Narcotics     0.07630    0.03205   2.381  0.01728 *  \n",
       "---\n",
       "Signif. codes:  0 ‘***’ 0.001 ‘**’ 0.01 ‘*’ 0.05 ‘.’ 0.1 ‘ ’ 1\n",
       "\n",
       "(Dispersion parameter for binomial family taken to be 1)\n",
       "\n",
       "    Null deviance: 111.888  on 98  degrees of freedom\n",
       "Residual deviance:  89.127  on 96  degrees of freedom\n",
       "AIC: 95.127\n",
       "\n",
       "Number of Fisher Scoring iterations: 4\n"
      ]
     },
     "metadata": {},
     "output_type": "display_data"
    }
   ],
   "source": [
    "#verifichiamo la bonta' del modello ottenuto\n",
    "summary(qualityMdl)"
   ]
  },
  {
   "cell_type": "markdown",
   "metadata": {},
   "source": [
    "*****************************************************************************************************************************\n",
    "Esaminiamo il risultato del modello.\n",
    "\n",
    "* Per prima cosa vediamo la funzione che abbiamo utilizzato per creare il modello: PoorCare in funzione di OfficeVisits e Narcotics\n",
    "  Nella riga sottostante abbiamo la distribuzione dei Residuals, cioe' le differenze tra punti stimati e punti reali.\n",
    "\n",
    "* Di seguito abbiamo i coefficenti relativi alle variabili che abbiamo usato nel modello.\n",
    "\n",
    "* La colonna **ESTIMATE** rappresenta i valori dei coefficienti :\n",
    "\n",
    "* **Intercept** corrisponde a **β0**, mentre **OfficeVisits** corrisponde a **β1** e **Narcotics** corrisponde a **β2**\n",
    "\n",
    "* Il valore **AIC** e' una misura della qualita' del modello e serve per confrontare piu' modelli tra loro. Sono da preferire modelli per cui AIC e' basso. (AIC sta per Akaike Information Criterion) \n",
    "\n",
    "* Il Valore di Fisher Scoring ci dice quante iterazioni sono state compiute per convergere al valore dei parametri β.\n",
    "\n",
    "Da summary si puo' vedere che entrambe le variabili sono significative per il modello.\n",
    "Il linguaggio R ci proppone in modo immediato questa valutazione usando gli asterischi a fianco del coefficiente. \n",
    "\n",
    "Si puo' vedere inoltre che i valori dei parametri sono entrambi positivi e questo corrisponde ad avere delle probabilita' di PoorCare, cioe' scarsa qualita', che tendono ad 1 al crescere dei valori delle variabili.\n",
    "Questo conferma quanto potevamo dedurre dal plot disegnato sopra.\n",
    "\n"
   ]
  },
  {
   "cell_type": "markdown",
   "metadata": {},
   "source": [
    "Andiamo a testare il modello sui dati di test e confrontiamo il valore di PoorCare predetto da quello reale contenuto nel dataset.\n",
    "Specifichiamo il parametro type=\"response\" con cui diciamo al modello di tornare delle probabilita'.\n"
   ]
  },
  {
   "cell_type": "code",
   "execution_count": 10,
   "metadata": {},
   "outputs": [
    {
     "data": {
      "text/plain": [
       "   Min. 1st Qu.  Median    Mean 3rd Qu.    Max. \n",
       "0.06623 0.11910 0.15970 0.25250 0.26760 0.98460 "
      ]
     },
     "metadata": {},
     "output_type": "display_data"
    }
   ],
   "source": [
    "predictTrain=predict(qualityMdl,type=\"response\")\n",
    "#andiamo a vedere il risultato\n",
    "summary(predictTrain)"
   ]
  },
  {
   "cell_type": "markdown",
   "metadata": {},
   "source": [
    "I valori ottenuto eseguendo il modello sul dataset di test sono valori compresi tra 0 e 1. Questo e' corretto perche avevamo richiesto delle probabilita'.\n",
    "In realta', pero', vorremmo ottenere una risposta di tipo binario: \n",
    "il paziente e' stato sottoposto ad una cura di scarsa qualita' o di buona qualita'?\n",
    "Dobbiamo quindi convertire le probabilita' in un valore binario indicativo di scarsa/buona qualita'.\n",
    "Per fare questo dobbiamo lavorare introducendo una soglia **t**:\n",
    "se la probabilita' P(PoorCare=1)>= t allora decidiamo che PoorCare=1 cioe' scarsa qualita'\n",
    "se la probabilita' P(PoorCare=1)< t allora decidiamo che PoorCare=0 cioe' buona qualita'\n",
    "\n"
   ]
  },
  {
   "cell_type": "markdown",
   "metadata": {},
   "source": [
    "Come determinare il valore di soglia?\n",
    "Per determinare quale valore di soglia selezionare occorre valutare quale tipo di errori possiamo e vogliamo accettare.\n",
    "Ovviamente possiamo pensare che non fare errori sia la cosa migliore ma nella realta' non fare errori e' impossibile.\n",
    "Quindi dobbiamo decidere se:\n",
    "* fare piu' errori stimando come buona qualita' quella che nella realta' si e' dimostrata una scarsa qualita'\n",
    "In questo caso siamo sicuri di identificare solo i pazienti con i casi peggiori in fatto assistenza sanitaria\n",
    "* fare piu' errori stimando come scarsa qualita' anche quella che in realta' e' stata una buona pratica\n",
    "in questo caso siamo sicuri di raccogliere tutti i pazienti che hanno ricevuto un percorso di cura non corretto\n",
    "\n",
    "Ricordiamo che stiamo applicando un valore di soglia a delle probabilita'.\n",
    "Se scelgo un valore t=0.5 non specifico alcuna preferenza sul tipo di errore."
   ]
  },
  {
   "cell_type": "markdown",
   "metadata": {},
   "source": [
    "Per rappresentare in modo quantitativo gli errori sui dati posso utilizzare la **matrice di classificazione**\n"
   ]
  },
  {
   "cell_type": "code",
   "execution_count": 11,
   "metadata": {},
   "outputs": [
    {
     "data": {
      "text/plain": [
       "   \n",
       "    FALSE TRUE\n",
       "  0    70    4\n",
       "  1    15   10"
      ]
     },
     "metadata": {},
     "output_type": "display_data"
    }
   ],
   "source": [
    "table(qualitytrain$PoorCare,predictTrain>0.5)"
   ]
  },
  {
   "cell_type": "markdown",
   "metadata": {},
   "source": [
    "Le righe rappresentano i valori reali associati all'indicatore PoorCare (ricordiamo 0 = buona qualita' e 1 = scarsa qualita').\n",
    "Le colonne rappresentano i valori predetti dal modello.\n",
    "Gli elementi diagonali sono quelli che abbiamo predetto correttamente.\n",
    "Questo consente di valutare l'**Accuratezza** del modello come **TN+TP/totale dati** ovvero\n",
    "**TN= True Negative** i veri negativi\n",
    "**TP= True Positive** i veri positivi\n",
    "\n",
    "In particolare mettiamo in evidenza\n",
    "quanto abbiamo predetto come **True Positive** in rapporto al totale reale dei positivi **TP/(TP+FN)** \n",
    "dove **FN= False Negative**\n",
    "quanto abbiamo predetto come **True Negative** in rapporto al totale reale dei negativi **TN/(TN+FP)** \n",
    "dove **FP= False Positive**\n",
    "\n",
    "Il primo valore si chiama **Sensitivita'**, il secondo valore e' la **Specificita'**.\n",
    "E' chiaro che se ho una Sensitivita' alta aumento la probabilita' di classificare come positivi dei falsi positivi.\n",
    "Se invece aumento la Specificita' aumento la probabilita' di classificare come negativi dei falsi negativi.\n",
    "\n",
    "La soglia quindi mi trasforma il risultato espresso intermini probabilistici in un risultato finale dove abbiamo operato una decisione in termini di classificazione. Questo potrebbe fare interpretare il risultato in modo erroneo come un **risultato falsamente deterministico**. Nella realta' abbiamo deciso che eventi con una probabilita' sopra una certa soglia, decidiamo di interpretarli in un certo modo, almeno fino ad evidenza del contrario.\n",
    "Cambiare la soglia, che trasforma la probabilita' in un risultato, significa modificare le corrispondenti sensitivita' e specificita'. \n",
    "\n",
    "Proviamo cambiando la soglia. \n",
    "Prova a costruire la matrice di classificazione per t=0.7 e poi per t=0.2\n"
   ]
  },
  {
   "cell_type": "code",
   "execution_count": 12,
   "metadata": {},
   "outputs": [
    {
     "data": {
      "text/plain": [
       "   \n",
       "    FALSE TRUE\n",
       "  0    73    1\n",
       "  1    17    8"
      ]
     },
     "metadata": {},
     "output_type": "display_data"
    }
   ],
   "source": [
    "##inserisci qui il codice\n",
    "table(qualitytrain$PoorCare,predictTrain>0.7)\n"
   ]
  },
  {
   "cell_type": "code",
   "execution_count": 33,
   "metadata": {},
   "outputs": [
    {
     "data": {
      "text/html": [
       "0.32"
      ],
      "text/latex": [
       "0.32"
      ],
      "text/markdown": [
       "0.32"
      ],
      "text/plain": [
       "[1] 0.32"
      ]
     },
     "metadata": {},
     "output_type": "display_data"
    }
   ],
   "source": [
    "#calcola la sensitivita' e la specificita'\n",
    "#inserisci qui la sensitivita'\n",
    "#inserisci qui la specificita'"
   ]
  },
  {
   "cell_type": "code",
   "execution_count": null,
   "metadata": {},
   "outputs": [],
   "source": [
    "#Esegui lo stesso calcolo per t=0.2\n",
    "\n",
    "#inserisci qui il codice"
   ]
  },
  {
   "cell_type": "code",
   "execution_count": null,
   "metadata": {},
   "outputs": [],
   "source": [
    "#Valuta la corrispondente sensitivita' e specificita' "
   ]
  },
  {
   "cell_type": "markdown",
   "metadata": {},
   "source": [
    "Come scegliere quindi?\n",
    "Andiamo a valutare la curva **ROC Receiver Operator Characteristic curve** \n",
    "\n",
    "Con la curva ROC possiamo visualizzare andamento del rate di Veri Positivi, cioe' la Sensitivita', versus il rate di Falsi Positivi, \n",
    "cioe' 1-Specificita', al variare della soglia di classificazione.\n",
    "Potremo avere un'immagine visuale del tradeoff tra sensitivita' e specificita' e quindi scegliere la soglia piu' adatta ai nostri obiettivi. \n",
    "\n",
    "Considerando i valori estremi per la soglia:\n",
    "se scelgo una soglia = 1, in questo caso non avro' positivi, quindi una sensitivita'= 0 ma anche il rate dei Falsi Positivi sara' =0. \n",
    "Sono quindi sono nel punto (0,0)\n",
    "se scelgo una soglia = 0, in questo caso avro' tutti positivi, quindi una Sensitivita'= 1 e anche il rate dei Falsi Positivi =1. \n",
    "Quindi in questo caso sono nel punto (1,1).\n",
    "\n",
    "Scegliero' il valore della soglia di classificazione in base a quali sono i costi che posso accettare per il mio modello:\n",
    "* il costo di fallire nel classificare correttamente un positivo\n",
    "* il costo di produrre dei falsi allarmi.\n",
    "\n",
    "Scegliero' quindi un valore di soglia: \n",
    "- molto basso per avere il massimo dei Falsi Positivi, se voglio essere certo di non mancare alcuno dei positivi.\n",
    "- intermedio in modo da avere il massimo rate dei veri positivi in corrispondenza di un basso rate dei falsi positivi, se la mia preoccupazione\n",
    "  e' avere un'alta Sensitivita'.\n",
    "\n",
    "L'andamento dei rate di Veri Positivi e Falsi Positivi con la soglia sara' migliore se il mio modello di classificazione e' stato bravo a separare le due classi di dati. In questo caso il valora dell'area sotto la curva ROC sara' prossimo ad 1.\n"
   ]
  },
  {
   "cell_type": "code",
   "execution_count": 1,
   "metadata": {},
   "outputs": [
    {
     "name": "stderr",
     "output_type": "stream",
     "text": [
      "Installing package into ‘/gpfs/global_fs01/cluster/yp-spark-lon02-env5-0101.bluemix.net/user/s835-83dfafd63ade72-d1ab19d1f047/R/libs’\n",
      "(as ‘lib’ is unspecified)\n",
      "also installing the dependencies ‘gtools’, ‘gdata’, ‘caTools’, ‘gplots’\n",
      "\n",
      "Loading required package: gplots\n",
      "\n",
      "Attaching package: ‘gplots’\n",
      "\n",
      "The following object is masked from ‘package:stats’:\n",
      "\n",
      "    lowess\n",
      "\n"
     ]
    }
   ],
   "source": [
    "install.packages(\"ROCR\")\n",
    "library(ROCR)\n"
   ]
  },
  {
   "cell_type": "code",
   "execution_count": 16,
   "metadata": {},
   "outputs": [
    {
     "data": {
      "image/png": "[encoded data removed]"
     },
     "metadata": {},
     "output_type": "display_data"
    }
   ],
   "source": [
    "ROCRpred=prediction(predictTrain,qualitytrain$PoorCare)\n",
    "ROCRperf=performance(ROCRpred,\"tpr\",\"fpr\")\n",
    "#plot(ROCRperf,colorize=TRUE,print.cutoffs.at=seq(0,1,0.1))\n",
    "plot(ROCRperf,colorize=TRUE)"
   ]
  },
  {
   "cell_type": "markdown",
   "metadata": {},
   "source": [
    "Questa rappresentazione mostra l'andamento dei veri positivi e dei falsi positivi al variare della soglia t.\n",
    "I valori della soglia sono rappresentati con i colori e a destra compare la legenda.\n",
    "Nel punto (0,0), il valore di t=1 che corrisponde a non avere True positive e quindi la sensitivita' =0.\n",
    "Nel punto (1,1) il valore di t=0 e corrisponde ad avere tutti True positive e quindi sensitivita' =1.\n",
    "Il valore della soglia varia quindi da 1 in corrispondenza del punto (0,0) e decresce avvicinandosi al punto (1,1).\n",
    "Il valore di t viene riportato sulla curva ROC.\n",
    "\n",
    "Sceglieremo t in modo da avere il massimo dei true positive in corrispondenza di un basso valore di falsi positivi.\n",
    "Ad esempio nel punto (0,0.4) abbiamo un valore di t=0.6 e stiamo classificando correttamente il 40% dei casi di bassa qualita' mentre abbiamo un valore molto basso di falso positivi.\n",
    "Nel punto (0.6,0.9) classifico correttamente il 90% dei positivi ma ho anche un rate di falsi positivi di 60%.\n",
    "proviamo a scegliere t=0.3 e andiamo a testare il modello sui dati di test.\n"
   ]
  },
  {
   "cell_type": "code",
   "execution_count": 15,
   "metadata": {},
   "outputs": [],
   "source": [
    "predictTest=predict(qualityMdl,type=\"response\",newdata=qualityTest)\n"
   ]
  },
  {
   "cell_type": "markdown",
   "metadata": {},
   "source": [
    "Andiamo a vedere nel file di test quale accuratezza si ottiene usando la predizione di tipo baseline, cioe' che  l'outcome e' quello di caso di buona qualita0 delle cure che sono state effettuate sul paziente.\n",
    "Questo valore sara la nostra predizione di base.\n"
   ]
  },
  {
   "cell_type": "code",
   "execution_count": 44,
   "metadata": {},
   "outputs": [
    {
     "data": {
      "text/plain": [
       "\n",
       " 0  1 \n",
       "24  8 "
      ]
     },
     "metadata": {},
     "output_type": "display_data"
    }
   ],
   "source": [
    "table(qualityTest$PoorCare)"
   ]
  },
  {
   "cell_type": "code",
   "execution_count": 45,
   "metadata": {},
   "outputs": [
    {
     "data": {
      "text/html": [
       "0.75"
      ],
      "text/latex": [
       "0.75"
      ],
      "text/markdown": [
       "0.75"
      ],
      "text/plain": [
       "[1] 0.75"
      ]
     },
     "metadata": {},
     "output_type": "display_data"
    }
   ],
   "source": [
    "#accuratezza di predire una buona qualita' e' pari a\n",
    "24/(24+8)"
   ]
  },
  {
   "cell_type": "markdown",
   "metadata": {},
   "source": [
    "Andiamo a valutare l'accuratezza ottenuta usando il modello"
   ]
  },
  {
   "cell_type": "code",
   "execution_count": 48,
   "metadata": {},
   "outputs": [
    {
     "data": {
      "text/plain": [
       "   \n",
       "    FALSE TRUE\n",
       "  0    19    5\n",
       "  1     2    6"
      ]
     },
     "metadata": {},
     "output_type": "display_data"
    }
   ],
   "source": [
    "table(qualityTest$PoorCare,predictTest>=0.3)"
   ]
  },
  {
   "cell_type": "code",
   "execution_count": 49,
   "metadata": {},
   "outputs": [
    {
     "data": {
      "text/html": [
       "0.78125"
      ],
      "text/latex": [
       "0.78125"
      ],
      "text/markdown": [
       "0.78125"
      ],
      "text/plain": [
       "[1] 0.78125"
      ]
     },
     "metadata": {},
     "output_type": "display_data"
    }
   ],
   "source": [
    "(19+6)/nrow(qualityTest)"
   ]
  }
 ],
 "metadata": {
  "kernelspec": {
   "display_name": "R with Spark 2.1",
   "language": "R",
   "name": "r-spark21"
  },
  "language_info": {
   "codemirror_mode": "r",
   "file_extension": ".r",
   "mimetype": "text/x-r-source",
   "name": "R",
   "pygments_lexer": "r",
   "version": "3.3.2"
  }
 },
 "nbformat": 4,
 "nbformat_minor": 1
}
